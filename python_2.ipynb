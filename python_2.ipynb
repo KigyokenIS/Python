{
  "nbformat": 4,
  "nbformat_minor": 0,
  "metadata": {
    "colab": {
      "name": "python.2",
      "provenance": [],
      "authorship_tag": "ABX9TyMV/f8QMHLvgphk1EanoMPp"
    },
    "kernelspec": {
      "name": "python3",
      "display_name": "Python 3"
    }
  },
  "cells": [
    {
      "cell_type": "markdown",
      "metadata": {
        "id": "p3og9vv25sBs"
      },
      "source": [
        "# 【Python.2】変数\n",
        "変数について"
      ]
    },
    {
      "cell_type": "code",
      "metadata": {
        "id": "TDeTT4ul5pmF",
        "outputId": "be667bd9-9977-44b8-b4a1-766150b83191",
        "colab": {
          "base_uri": "https://localhost:8080/"
        }
      },
      "source": [
        "hensu_int=25 #数字(int型)で変数に代入する\n",
        "\n",
        "print(hensu_int) #標準出力\n",
        "print(type(hensu_int)) #type関数で型を見ることができる"
      ],
      "execution_count": 1,
      "outputs": [
        {
          "output_type": "stream",
          "text": [
            "25\n",
            "<class 'int'>\n"
          ],
          "name": "stdout"
        }
      ]
    }
  ]
}